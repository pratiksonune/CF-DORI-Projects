{
 "cells": [
  {
   "cell_type": "markdown",
   "id": "284efcc4",
   "metadata": {},
   "source": [
    "# Printing multiplication table using while loop"
   ]
  },
  {
   "cell_type": "code",
   "execution_count": 1,
   "id": "4d7283fc",
   "metadata": {},
   "outputs": [
    {
     "name": "stdout",
     "output_type": "stream",
     "text": [
      "__________________________________________________________________________________________\n",
      "While loops are used to iterate over a statement until and unless the given condition is true.\n",
      "This program helps to print multiplication table till 12 of any number that the user inputs.\n",
      "__________________________________________________________________________________________\n"
     ]
    }
   ],
   "source": [
    "#INTRODUCTION\n",
    "print(\"_\"*90)\n",
    "print(\"While loops are used to iterate over a statement until and unless the given condition is true.\")\n",
    "print(\"This program helps to print multiplication table till 12 of any number that the user inputs.\")\n",
    "print(\"_\"*90)"
   ]
  },
  {
   "cell_type": "code",
   "execution_count": 4,
   "id": "f0e21158",
   "metadata": {},
   "outputs": [
    {
     "name": "stdout",
     "output_type": "stream",
     "text": [
      "Enter the number you wish to print the multiplication table of: 12\n",
      "__________________________________________________________________________________________\n",
      "The multiplication table of 12 is: \n",
      "__________________________________________________________________________________________\n",
      "12 * 0 = 0\n",
      "______________________________|\n",
      "12 * 1 = 12\n",
      "______________________________|\n",
      "12 * 2 = 24\n",
      "______________________________|\n",
      "12 * 3 = 36\n",
      "______________________________|\n",
      "12 * 4 = 48\n",
      "______________________________|\n",
      "12 * 5 = 60\n",
      "______________________________|\n",
      "12 * 6 = 72\n",
      "______________________________|\n",
      "12 * 7 = 84\n",
      "______________________________|\n",
      "12 * 8 = 96\n",
      "______________________________|\n",
      "12 * 9 = 108\n",
      "______________________________|\n",
      "12 * 10 = 120\n",
      "______________________________|\n"
     ]
    }
   ],
   "source": [
    "#TAKING USER INPUT \n",
    "num = int(input(\"Enter the number you wish to print the multiplication table of: \"))\n",
    "\n",
    "#PRE-STATEMENT\n",
    "print(\"_\"*90)\n",
    "print(\"The multiplication table of {num} is: \".format(num=num))\n",
    "print(\"_\"*90)\n",
    "\n",
    "#INITIALIZING i FOR THE LOOP\n",
    "i = 0\n",
    "\n",
    "#WHILE LOOP\n",
    "while (i<=10):\n",
    "    result = num * i   #INITIALIZING result VARIABLE\n",
    "    print(str(num) + \" \" + \"*\" + \" \" + str(i) + \" \" + \"=\" + \" \" + str(result))\n",
    "    print(\"_\"*30 + \"|\")\n",
    "    i = i+1     #INCREMENTING THE VALUE OF i"
   ]
  },
  {
   "cell_type": "code",
   "execution_count": 10,
   "id": "981a1233",
   "metadata": {},
   "outputs": [
    {
     "name": "stdout",
     "output_type": "stream",
     "text": [
      "__________________________________________________________________________________________\n",
      "In this way you can print the multiplication table of any number!\n",
      "__________________________________________________________________________________________\n"
     ]
    }
   ],
   "source": [
    "#CONCLUSION\n",
    "print(\"_\"*90)\n",
    "print(\"In this way you can print the multiplication table of any number!\")\n",
    "print(\"_\"*90)"
   ]
  },
  {
   "cell_type": "code",
   "execution_count": null,
   "id": "a1a4a9eb",
   "metadata": {},
   "outputs": [],
   "source": []
  }
 ],
 "metadata": {
  "kernelspec": {
   "display_name": "Python 3 (ipykernel)",
   "language": "python",
   "name": "python3"
  },
  "language_info": {
   "codemirror_mode": {
    "name": "ipython",
    "version": 3
   },
   "file_extension": ".py",
   "mimetype": "text/x-python",
   "name": "python",
   "nbconvert_exporter": "python",
   "pygments_lexer": "ipython3",
   "version": "3.9.7"
  }
 },
 "nbformat": 4,
 "nbformat_minor": 5
}
