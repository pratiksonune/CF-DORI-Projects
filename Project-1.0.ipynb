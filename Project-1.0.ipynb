{
 "cells": [
  {
   "cell_type": "markdown",
   "id": "32a29ccb",
   "metadata": {},
   "source": [
    "# Student Portfolio"
   ]
  },
  {
   "cell_type": "markdown",
   "id": "f1581747",
   "metadata": {},
   "source": [
    "Student Details"
   ]
  },
  {
   "cell_type": "code",
   "execution_count": 1,
   "id": "85b494cb",
   "metadata": {},
   "outputs": [
    {
     "name": "stdout",
     "output_type": "stream",
     "text": [
      "Enter your name: Pratik Sonune\n",
      "Enter your standard: 2nd Year\n",
      "Enter your division: A\n",
      "Enter your Roll no.: 41\n"
     ]
    }
   ],
   "source": [
    "name = str(input(\"Enter your name: \"))\n",
    "std = input(\"Enter your standard: \")\n",
    "div = str(input(\"Enter your division: \"))\n",
    "rollno = int(input(\"Enter your Roll no.: \"))"
   ]
  },
  {
   "cell_type": "markdown",
   "id": "1031ff8b",
   "metadata": {},
   "source": [
    "Percentage Calculation "
   ]
  },
  {
   "cell_type": "code",
   "execution_count": 2,
   "id": "78d1473b",
   "metadata": {},
   "outputs": [
    {
     "name": "stdout",
     "output_type": "stream",
     "text": [
      "Enter your Maths marks (out of 100): 94\n",
      "Enter your Science marks (out of 100): 93\n",
      "Enter your English marks (out of 100): 94\n"
     ]
    }
   ],
   "source": [
    "sub1 = int(input(\"Enter your Maths marks (out of 100): \"))\n",
    "sub2 = int(input(\"Enter your Science marks (out of 100): \"))\n",
    "sub3 = int(input(\"Enter your English marks (out of 100): \"))\n",
    "percentcal = ((sub1 + sub2 + sub3)/300.0)*100"
   ]
  },
  {
   "cell_type": "markdown",
   "id": "b8282142",
   "metadata": {},
   "source": [
    "Displaying all details"
   ]
  },
  {
   "cell_type": "code",
   "execution_count": 3,
   "id": "a5004aa6",
   "metadata": {},
   "outputs": [
    {
     "name": "stdout",
     "output_type": "stream",
     "text": [
      "Name: Pratik Sonune\n",
      "Standard: 2nd Year\n",
      "Division: A\n",
      "Rollno: 41\n",
      "Maths Marks: 94\n",
      "Science Marks: 93\n",
      "English Marks: 94\n",
      "Percentage: 93.66666666666667%\n"
     ]
    }
   ],
   "source": [
    "print(\"Name: \" + name + \"\\n\" + \"Standard: \" + std + \"\\n\" + \"Division: \" + div + \"\\n\" + \"Rollno: \" + str(rollno))\n",
    "print(\"Maths Marks: \" + str(sub1) + \"\\n\" + \"Science Marks: \" + str(sub2) + \"\\n\" + \"English Marks: \" + str(sub3))\n",
    "print(\"Percentage: \" + str(percentcal) + \"%\")"
   ]
  },
  {
   "cell_type": "code",
   "execution_count": null,
   "id": "e2e7b18c",
   "metadata": {},
   "outputs": [],
   "source": []
  },
  {
   "cell_type": "code",
   "execution_count": null,
   "id": "cdb0f084",
   "metadata": {},
   "outputs": [],
   "source": []
  }
 ],
 "metadata": {
  "kernelspec": {
   "display_name": "Python 3 (ipykernel)",
   "language": "python",
   "name": "python3"
  },
  "language_info": {
   "codemirror_mode": {
    "name": "ipython",
    "version": 3
   },
   "file_extension": ".py",
   "mimetype": "text/x-python",
   "name": "python",
   "nbconvert_exporter": "python",
   "pygments_lexer": "ipython3",
   "version": "3.9.7"
  }
 },
 "nbformat": 4,
 "nbformat_minor": 5
}
